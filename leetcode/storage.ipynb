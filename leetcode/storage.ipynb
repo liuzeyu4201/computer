{
 "cells": [
  {
   "cell_type": "markdown",
   "metadata": {},
   "source": [
    "# 寄存待分类题库"
   ]
  },
  {
   "cell_type": "markdown",
   "metadata": {},
   "source": [
    "**1480** ：题目： 一维数组的动态和\n",
    "给你一个数组 nums 。数组「动态和」的计算公式为：runningSum[i] = sum(nums[0]…nums[i]) 。\n",
    "请返回 nums 的动态和。\n",
    "输入：nums = [1,2,3,4]\n",
    "输出：[1,3,6,10]\n",
    "解释：动态和计算过程为 [1, 1+2, 1+2+3, 1+2+3+4] 。"
   ]
  },
  {
   "cell_type": "code",
   "execution_count": 1,
   "metadata": {},
   "outputs": [
    {
     "data": {
      "text/plain": [
       "'\\n1. list长度计算\\n2. list 求和计算\\n3. list 添加运算\\n4. list 索引\\n'"
      ]
     },
     "execution_count": 1,
     "metadata": {},
     "output_type": "execute_result"
    }
   ],
   "source": [
    "class Solution(object):\n",
    "    def runningSum(self, nums):\n",
    "        \"\"\"\n",
    "        :type nums: List[int]\n",
    "        :rtype: List[int]\n",
    "        \"\"\"\n",
    "        nb=len(nums)\n",
    "        ans=[]\n",
    "        for i in range(nb):\n",
    "            ans.append(sum(nums[:i+1]))\n",
    "        return ans\n",
    "        '''\n",
    "            1. list长度计算\n",
    "            2. list 求和计算\n",
    "            3. list 添加运算\n",
    "            4. list 索引\n",
    "        '''\n"
   ]
  },
  {
   "cell_type": "markdown",
   "metadata": {},
   "source": [
    "**1342**. 将数字变成 0 的操作次数\n",
    "给你一个非负整数 num ，请你返回将它变成 0 所需要的步数。 如果当前数字是偶数，你需要把它除以 2 ；否则，减去 1 。"
   ]
  },
  {
   "cell_type": "code",
   "execution_count": 2,
   "metadata": {},
   "outputs": [],
   "source": [
    "class Solution(object):\n",
    "    def numberOfSteps(self,num):\n",
    "        \"\"\"\n",
    "        :type num: int\n",
    "        :rtype: int\n",
    "        \"\"\"\n",
    "        i=0\n",
    "        nb=[0]\n",
    "        while num > 0 :\n",
    "            i += 1\n",
    "            nb.append(i)\n",
    "            if num % 2 == 0 :\n",
    "                num=(num/2)\n",
    "            else:\n",
    "                num= num-1\n",
    "        return nb[-1]\n",
    "    \n",
    "    '''\n",
    "    1. while 循环\n",
    "    2. mod 运算 %\n",
    "    3. 循环次数计数\n",
    "    '''"
   ]
  },
  {
   "cell_type": "markdown",
   "metadata": {},
   "source": [
    "**1672**. 最富有客户的资产总量\n",
    "\n",
    "给你一个 m x n 的整数网格 accounts ，其中 accounts[i][j] 是第 i​​​​​​​​​​​​ 位客户在第 j 家银行托管的资产数量。返回最富有客户所拥有的 资产总量 。\n",
    "[[1,2,3],[3,2,1]]\n",
    "客户的 资产总量 就是他们在各家银行托管的资产数量之和。最富有客户就是 资产总量 最大的客户。"
   ]
  },
  {
   "cell_type": "code",
   "execution_count": null,
   "metadata": {},
   "outputs": [],
   "source": [
    "class Solution(object):\n",
    "    def maximumWealth(self, accounts):\n",
    "        \"\"\"\n",
    "        :type accounts: List[List[int]]\n",
    "        :rtype: int\n",
    "        \"\"\"\n",
    "        fin=[]\n",
    "        for i in range(0,len(accounts)):\n",
    "            fin.append(sum(accounts[i]))\n",
    "        \n",
    "        return max(fin)\n",
    "    '''\n",
    "    1. for 循环 索引 数组\n",
    "    2. sum函数\n",
    "    3. 数组最大选取\n",
    "    '''"
   ]
  },
  {
   "cell_type": "markdown",
   "metadata": {},
   "source": [
    "**412**. Fizz Buzz\n",
    "给你一个整数 n ，找出从 1 到 n 各个整数的 Fizz Buzz 表示，并用字符串数组 answer（下标从 1 开始）返回结果，其中：\n",
    "\n",
    "answer[i] == \"FizzBuzz\" 如果 i 同时是 3 和 5 的倍数。\n",
    "answer[i] == \"Fizz\" 如果 i 是 3 的倍数。\n",
    "answer[i] == \"Buzz\" 如果 i 是 5 的倍数。\n",
    "answer[i] == i （以字符串形式）如果上述条件全不满足。\n"
   ]
  },
  {
   "cell_type": "code",
   "execution_count": null,
   "metadata": {},
   "outputs": [],
   "source": [
    "class Solution(object):\n",
    "    def fizzBuzz(self, n):\n",
    "        \"\"\"\n",
    "        :type n: int\n",
    "        :rtype: List[str]\n",
    "        \"\"\"\n",
    "        answer=[]\n",
    "        for i in range(1,n+1):\n",
    "            if i %3==0 and i %5 ==0:\n",
    "                answer.append(\"FizzBuzz\")\n",
    "            elif i % 3 ==0 :\n",
    "                answer.append(\"Fizz\")\n",
    "            elif i % 5 == 0 :\n",
    "                answer.append(\"Buzz\")\n",
    "            else:\n",
    "                answer.append(str(i))\n",
    "        return answer\n",
    "    \n",
    "    '''\n",
    "    1. if 判断\n",
    "    2. list 添加\n",
    "    '''"
   ]
  },
  {
   "cell_type": "markdown",
   "metadata": {},
   "source": [
    "**383**. 赎金信\n",
    "给你两个字符串：ransomNote 和 magazine ，判断 ransomNote 能不能由 magazine 里面的字符构成。\n",
    "如果可以，返回 true ；否则返回 false 。\n",
    "magazine 中的每个字符只能在 ransomNote 中使用一次。"
   ]
  },
  {
   "cell_type": "code",
   "execution_count": null,
   "metadata": {},
   "outputs": [],
   "source": [
    "class Solution(object):\n",
    "    def canConstruct(self, ransomNote, magazine):\n",
    "        \"\"\"\n",
    "        :type ransomNote: str\n",
    "        :type magazine: str\n",
    "        :rtype: bool\n",
    "        \"\"\"\n",
    "\n",
    "        \"\"\"\n",
    "        num=len(ransomNote)\n",
    "        ans=False\n",
    "        for i in range(0,len(magazine)):\n",
    "            if magazine[i:i+num] == ransomNote:\n",
    "                ans=True\n",
    "        return ans\n",
    "        \"\"\"\n",
    "        ransomNote_dict={}\n",
    "        magazine_dict={}\n",
    "        ans=True\n",
    "        for char in set(ransomNote):\n",
    "            ransomNote_dict[char]=ransomNote.count(char)\n",
    "        for char in set(magazine):\n",
    "            magazine_dict[char]=magazine.count(char)\n",
    "        for char in ransomNote_dict.keys():\n",
    "            if char not in magazine_dict.keys() :\n",
    "                ans=False\n",
    "                break\n",
    "            elif ransomNote_dict[char] > magazine_dict[char]:\n",
    "                ans=False\n",
    "                break\n",
    "        return ans\n",
    "        '''\n",
    "        1. 使用set将list中元素单一化\n",
    "        2. count函数 统计出现次数\n",
    "        3. 制作dict\n",
    "        4. 使用for 循环 判断 两个dict的关系。\n",
    "        '''\n",
    "\n",
    "        \n"
   ]
  }
 ],
 "metadata": {
  "kernelspec": {
   "display_name": "base",
   "language": "python",
   "name": "python3"
  },
  "language_info": {
   "codemirror_mode": {
    "name": "ipython",
    "version": 3
   },
   "file_extension": ".py",
   "mimetype": "text/x-python",
   "name": "python",
   "nbconvert_exporter": "python",
   "pygments_lexer": "ipython3",
   "version": "3.10.8"
  }
 },
 "nbformat": 4,
 "nbformat_minor": 2
}
