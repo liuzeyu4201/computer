{
 "cells": [
  {
   "cell_type": "markdown",
   "id": "925eb7cc",
   "metadata": {},
   "source": [
    "# 刷题-链表"
   ]
  },
  {
   "cell_type": "code",
   "execution_count": 6,
   "id": "f153ac14",
   "metadata": {},
   "outputs": [],
   "source": [
    "class listnode:\n",
    "    def __init__(self,val):\n",
    "        self.val=val\n",
    "        self.next : listnode|None=None"
   ]
  },
  {
   "cell_type": "markdown",
   "id": "6688b784",
   "metadata": {},
   "source": [
    "## 双指针技巧秒杀七道链表题目"
   ]
  },
  {
   "cell_type": "markdown",
   "id": "e95689df",
   "metadata": {},
   "source": [
    "- 双指针法即额外创造指针遍历（穷举）列表  \n",
    "常见技巧\n",
    "1.  虚拟头节点：用于创造新链的时候。\n",
    "2.  同速双指针、提前出发K位同速指针找倒数第k个节点\n",
    "3.  2倍速快慢指针寻找中位节点。\n"
   ]
  },
  {
   "cell_type": "markdown",
   "id": "2bf31c61",
   "metadata": {},
   "source": [
    "**合并两个有序链表**\n",
    "![merge2listnode](../img/merge2listnode.png)"
   ]
  },
  {
   "cell_type": "markdown",
   "id": "83ac2c62",
   "metadata": {},
   "source": [
    "**题解思路**\n",
    "创建一个新指针P3，用于指向合并后的链表。  \n",
    "对于每一个链创建一个指针，比较指针，将小的值赋予给P3指针. 当完成后将短链直接连接到P3指针后面。"
   ]
  },
  {
   "cell_type": "code",
   "execution_count": null,
   "id": "00bd4791",
   "metadata": {},
   "outputs": [
    {
     "data": {
      "text/plain": [
       "2"
      ]
     },
     "execution_count": 8,
     "metadata": {},
     "output_type": "execute_result"
    }
   ],
   "source": [
    "class Solution:\n",
    "    def Merge(self , pHead1: ListNode, pHead2: ListNode) -> ListNode:\n",
    "        # write code here\n",
    "        dummy=ListNode(-1)\n",
    "        p1=pHead1\n",
    "        p2=pHead2\n",
    "        p3=dummy\n",
    "        while p2 is not None and p1 is not None :\n",
    "            if p1.val > p2.val :\n",
    "                p3.next=p2\n",
    "                p2=p2.next\n",
    "            else:\n",
    "                p3.next=p1\n",
    "                p1=p1.next\n",
    "            p3=p3.next\n",
    "        if p1 is not None:\n",
    "            p3.next=p1\n",
    "        if p2 is not None:\n",
    "            p3.next=p2\n",
    "        return dummy.next"
   ]
  },
  {
   "cell_type": "markdown",
   "id": "011eb740",
   "metadata": {},
   "source": [
    "**单链表的分解** \n",
    "![split2two](../img/split2two.png)"
   ]
  },
  {
   "cell_type": "markdown",
   "id": "d9d6ec55",
   "metadata": {},
   "source": [
    "解题思路 先让一个指针走K步，先出发指针到末尾时，慢指针正好到剩K步。"
   ]
  },
  {
   "cell_type": "code",
   "execution_count": null,
   "id": "9439ed07",
   "metadata": {},
   "outputs": [],
   "source": [
    "# Definition for singly-linked list.\n",
    "# class ListNode:\n",
    "#     def __init__(self, val=0, next=None):\n",
    "#         self.val = val\n",
    "#         self.next = next\n",
    "class Solution:\n",
    "    def partition(self, head: Optional[ListNode], x: int) -> Optional[ListNode]:\n",
    "        dummy1=ListNode(-1)\n",
    "        dummy2=ListNode(-2)\n",
    "        p1=dummy1\n",
    "        p2=dummy2\n",
    "        p=head\n",
    "        while p is not None:\n",
    "            if p.val < x:\n",
    "                p1.next=p\n",
    "                p1=p1.next\n",
    "            else:\n",
    "                p2.next=p\n",
    "                p2=p2.next\n",
    "            # 注意这三步，将P指针从原链上断开，防止形成环\n",
    "            # 原因是 p1.next =p 的时候将主链接到了dummy链上\n",
    "            temp = p.next\n",
    "            p.next = None\n",
    "            p = temp\n",
    "        p1.next=dummy2.next\n",
    "        return dummy1.next"
   ]
  },
  {
   "cell_type": "markdown",
   "id": "e423f089",
   "metadata": {},
   "source": [
    "总的来说，如果我们需要把原链表的节点接到新链表上，而不是 new 新节点来组成新链表的话，那么断开节点和原链表之间的链接可能是必要的。那其实我们可以养成一个好习惯，但凡遇到这种情况，就把原链表的节点断开，这样就不会出错了。\n"
   ]
  },
  {
   "cell_type": "markdown",
   "id": "75296bc1",
   "metadata": {},
   "source": [
    "**找到第K个节点**\n",
    "![knode](../img/knode.png)"
   ]
  },
  {
   "cell_type": "code",
   "execution_count": null,
   "id": "cdb4209f",
   "metadata": {},
   "outputs": [
    {
     "data": {
      "text/plain": [
       "2"
      ]
     },
     "execution_count": 10,
     "metadata": {},
     "output_type": "execute_result"
    }
   ],
   "source": [
    "# class ListNode:\n",
    "#     def __init__(self, x):\n",
    "#         self.val = x\n",
    "#         self.next = None\n",
    "#\n",
    "# 代码中的类名、方法名、参数名已经指定，请勿修改，直接返回方法规定的值即可\n",
    "#\n",
    "# \n",
    "# @param pHead ListNode类 \n",
    "# @param k int整型 \n",
    "# @return ListNode类\n",
    "#\n",
    "class Solution:\n",
    "    def FindKthToTail(self , pHead: ListNode, k: int) -> ListNode:\n",
    "        # write code here\n",
    "        p1=pHead\n",
    "        p2=pHead\n",
    "        i=0\n",
    "        while i < k:\n",
    "            if p2 is not None:\n",
    "                p2=p2.next\n",
    "            else:\n",
    "                return p2\n",
    "            i +=1\n",
    "        while p2 is not None and  p1 is not None:\n",
    "            p2=p2.next\n",
    "            p1=p1.next\n",
    "        return p1"
   ]
  },
  {
   "cell_type": "markdown",
   "id": "966db0f0",
   "metadata": {},
   "source": [
    "**删除倒数第N个节点**\n",
    "![deleteknode](../img/middlenode.png)\n"
   ]
  },
  {
   "cell_type": "markdown",
   "id": "a1af17cc",
   "metadata": {},
   "source": [
    "解题思路  \n",
    "使用快慢指针，当快指针结束时，慢指针刚好到一半"
   ]
  },
  {
   "cell_type": "code",
   "execution_count": null,
   "id": "0f43bc16",
   "metadata": {},
   "outputs": [],
   "source": [
    "class Solution:\n",
    "    def middleNode(self, head: Optional[ListNode]) -> Optional[ListNode]:\n",
    "        p1=head\n",
    "        p2=head\n",
    "        while p2 is not None and p1 is not None and p2.next is not None:\n",
    "            p2=p2.next.next\n",
    "            p1=p1.next\n",
    "        return p1"
   ]
  },
  {
   "cell_type": "markdown",
   "id": "f67764e5",
   "metadata": {},
   "source": [
    "判断是否有环\n",
    "![ishavering](../img/ishavering.png)"
   ]
  },
  {
   "cell_type": "markdown",
   "id": "80ebe1dd",
   "metadata": {},
   "source": []
  },
  {
   "cell_type": "markdown",
   "id": "9f1b97e1",
   "metadata": {},
   "source": [
    "解题思路\n",
    "1. 使用快慢指针\n",
    "2. 数学上第二次追遇就是环的入口"
   ]
  },
  {
   "cell_type": "code",
   "execution_count": null,
   "id": "13566fdf",
   "metadata": {},
   "outputs": [],
   "source": [
    "# -*- coding:utf-8 -*-\n",
    "\n",
    "# class ListNode:\n",
    "#     def __init__(self, x):\n",
    "#         self.val = x\n",
    "#         self.next = None\n",
    "class Solution:\n",
    "    def EntryNodeOfLoop(self, pHead):\n",
    "        # write code here\n",
    "        fast, slow = pHead,pHead\n",
    "        while fast and fast.next:\n",
    "            fast = fast.next.next\n",
    "            slow = slow.next\n",
    "            if fast == slow:\n",
    "                break\n",
    "        # 上面的代码类似 hasCycle 函数\n",
    "        if not fast or not fast.next:\n",
    "            # fast 遇到空指针说明没有环\n",
    "            return None\n",
    "        # 重新指向头结点\n",
    "        slow = pHead\n",
    "        # 快慢指针同步前进，相交点就是环起点\n",
    "        while slow != fast:\n",
    "            fast = fast.next\n",
    "            slow = slow.next\n",
    "        return slow\n"
   ]
  },
  {
   "cell_type": "markdown",
   "id": "03c4bb07",
   "metadata": {},
   "source": [
    "第一个共同节点\n",
    "![firstcommonnode](../img/firstcommonnode.png)"
   ]
  },
  {
   "cell_type": "markdown",
   "id": "3f79429f",
   "metadata": {},
   "source": [
    "解题思路\n",
    "1. 指针对其进行遍历\n",
    "2. 当指针遍历到链表末尾时，指向另一个链表的头结点\n",
    "3. 当两个指针相遇时，即为交点\n",
    "![firstcommonnode](../img/firstcommonnode2.png)"
   ]
  },
  {
   "cell_type": "code",
   "execution_count": null,
   "id": "e86a50b5",
   "metadata": {},
   "outputs": [],
   "source": [
    "class Solution:\n",
    "    def getIntersectionNode(self, headA: ListNode, headB: ListNode) -> ListNode:\n",
    "        # p1 指向 A 链表头结点，p2 指向 B 链表头结点\n",
    "        p1, p2 = headA, headB\n",
    "        while p1 != p2:\n",
    "            # p1 走一步，如果走到 A 链表末尾，转到 B 链表\n",
    "            p1 = p1.next if p1 else headB\n",
    "            # p2 走一步，如果走到 B 链表末尾，转到 A 链表\n",
    "            p2 = p2.next if p2 else headA\n",
    "        return p1"
   ]
  }
 ],
 "metadata": {
  "kernelspec": {
   "display_name": "base",
   "language": "python",
   "name": "python3"
  },
  "language_info": {
   "codemirror_mode": {
    "name": "ipython",
    "version": 3
   },
   "file_extension": ".py",
   "mimetype": "text/x-python",
   "name": "python",
   "nbconvert_exporter": "python",
   "pygments_lexer": "ipython3",
   "version": "3.12.7"
  }
 },
 "nbformat": 4,
 "nbformat_minor": 5
}
