{
 "cells": [
  {
   "cell_type": "markdown",
   "id": "e61d2629",
   "metadata": {},
   "source": [
    "# 图"
   ]
  },
  {
   "cell_type": "markdown",
   "id": "45b5ec13",
   "metadata": {},
   "source": [
    "对于图这种数据结构来说 从原理上可以等价于多叉树，比如从实现原理上来说\n"
   ]
  },
  {
   "cell_type": "code",
   "execution_count": 3,
   "id": "e697ce31",
   "metadata": {},
   "outputs": [],
   "source": [
    "class graph:\n",
    "    def __init__(self,val:int):\n",
    "        self.val=val\n",
    "        self.children=[]"
   ]
  },
  {
   "cell_type": "markdown",
   "id": "1e12372a",
   "metadata": {},
   "source": [
    "### 多叉树和图的联系\n",
    "对于下图来说，自然的我们可以写出其的多叉树形式和链接表（下文介绍）。因此从理论上二者是等价的。  \n",
    "但是下文我们使用代码说明 这种等价关系"
   ]
  },
  {
   "cell_type": "code",
   "execution_count": 5,
   "id": "8d0d276e",
   "metadata": {},
   "outputs": [],
   "source": [
    "from collections import deque\n",
    "def mutitree_to_graph(root:graph)-> list:\n",
    "    graph=[]\n",
    "    q=deque()\n",
    "    q.append(root)\n",
    "    while q:\n",
    "        cur=q.popleft()\n",
    "        for child in cur :\n",
    "            q.append(child)\n",
    "            graph[cur.val].append(child.val)\n",
    "    return graph\n",
    "# 使用DBS为对于搜索到的每一个节点的子节点添加到矩阵中\n"
   ]
  },
  {
   "cell_type": "markdown",
   "id": "8d31b145",
   "metadata": {},
   "source": [
    "实际上图结构多数使用 邻接链表和邻接矩阵来联系"
   ]
  },
  {
   "cell_type": "markdown",
   "id": "787692e7",
   "metadata": {},
   "source": [
    "比如说，对于图：\n",
    "![graph](../img/graph.png)"
   ]
  },
  {
   "cell_type": "markdown",
   "id": "00cf950a",
   "metadata": {},
   "source": [
    "使用**邻接表**储存指是使用嵌套的数据结构储存，比如说[[2,3]].指根节点0的子节点是2、3.\n",
    "对于上图使用邻接表的表示为\n",
    "[\n",
    "    [1,4],\n",
    "    [4,3,2]\n",
    "    [3]\n",
    "    [4]\n",
    "    []\n",
    "]\n",
    "**注意**：\n",
    "1. 邻接表中储存了子节点的信息：数据类型是int\n",
    "2. 上文表达使用数据嵌套进行、但并非是矩阵类型\n",
    "3. 对于邻接表来说，个数信息是不可缺失的，因此即使当 比如 节点3子节点。邻接表的个数也不能缩小。  \n",
    "而由于动态数组的特性、因此需要提前赋予邻接表大小 如：\n",
    "```\n",
    "graph=[[] for i in range(n)]\n",
    "```\n",
    "- 当值为不同数据类型时，可以使用hash表将值映射如整数集。"
   ]
  },
  {
   "cell_type": "markdown",
   "id": "0f8f37d6",
   "metadata": {},
   "source": [
    "使用**邻接矩阵**方式表示图来说，即对于对应位置的值为True  \n",
    "比如说对于上图来说 使用邻接矩阵表示为  \n",
    "[  \n",
    "    [  \n",
    "        True,True,False,True,True  \n",
    "        False,True,True,True,False  \n",
    "        False,False,True,True,False  \n",
    "        False,False,False,True,True  \n",
    "        False,True,False,False,True  \n",
    "    ]  \n",
    "]  \n",
    "**注意**\n",
    "    邻接矩阵中的值为True和False\n",
    "![relate_table](../img/relate_table.png)\n"
   ]
  },
  {
   "cell_type": "code",
   "execution_count": null,
   "id": "c39abe80",
   "metadata": {},
   "outputs": [],
   "source": [
    "# 代码表示为\n",
    "graph: List[List[int]]=[]\n",
    "matrix: List[List[bool]]=[]"
   ]
  },
  {
   "cell_type": "markdown",
   "id": "edd7eb74",
   "metadata": {},
   "source": [
    "由于多叉树中指针的性质天然的有 有向性的特征。 但是对于无向图和有权图说需要使用额外添加信息和技巧  \n",
    "**无向图**\n",
    "- 无向即 任意两个节点之间的关系都是双向的。  \n",
    "因此只需要在链接A-->B 后同时添加 B--> A.即可\n",
    "**有权图**\n",
    "- 对于有权图来说，需要额外添加一个信息，即权重。\n",
    "- 对于邻接表来说，保存的信息不仅需要指向节点，还需要指向权重。\n",
    "- 对于邻接矩阵来说，只需将True/Flase替换为权重即可。"
   ]
  },
  {
   "cell_type": "code",
   "execution_count": null,
   "id": "15e470be",
   "metadata": {},
   "outputs": [],
   "source": [
    "# 例如\n",
    "class Edge:\n",
    "    def __init__(self,to:int,weight:int):\n",
    "        self.to :Edge =to\n",
    "        self.weight:float=weight\n",
    "graph: list[list[Edge]]=[]\n",
    "matrix: list[list[float]]=[]"
   ]
  },
  {
   "cell_type": "markdown",
   "id": "4f5152a8",
   "metadata": {},
   "source": [
    "下面抽象出图的API结构，以展示图的功能"
   ]
  },
  {
   "cell_type": "code",
   "execution_count": 11,
   "id": "c5c62e01",
   "metadata": {},
   "outputs": [],
   "source": [
    "from abc import ABC, abstractmethod\n",
    "class Graph(ABC):\n",
    "    @abstractmethod  # 抽象方法指不提供实现方法，只是提供一个模版\n",
    "    def add_edge(self,from_:int,to:int,weight:float):\n",
    "        pass\n",
    "    @abstractmethod\n",
    "    def remove_edge(self,from_:int,to:int):\n",
    "        pass\n",
    "    @abstractmethod\n",
    "    def hasEdge(self,from_:int,to:int)->bool:\n",
    "        pass\n",
    "    @abstractmethod\n",
    "    def weight(self,from_:int,to:int)->float:\n",
    "        pass\n",
    "    @abstractmethod\n",
    "    def neighbors(self,node:int)->list[int]:\n",
    "        pass\n",
    "    @abstractmethod\n",
    "    def size(self)->int:\n",
    "        pass\n",
    "\n"
   ]
  },
  {
   "cell_type": "markdown",
   "id": "50c8ebcb",
   "metadata": {},
   "source": [
    "使用邻接表，实现有向加权图、无向加权图"
   ]
  },
  {
   "cell_type": "code",
   "execution_count": null,
   "id": "bc6e9a16",
   "metadata": {},
   "outputs": [],
   "source": [
    "class WeightDigraph:\n",
    "    class Edge:\n",
    "        def __init__(self,to:int,weight:float):\n",
    "            self.to=to\n",
    "            self.weight=weight\n",
    "    def __init__(self,n:int):    \n",
    "        self.graph =[[] for _ in range(n)]\n",
    "    def add_edge(self,from_:int,to:int,weight:float):\n",
    "        self.graph[from_].append(WeightDigraph.Edge(to,weight))\n",
    "        self.graph[to].append(WeightDigraph.Edge(from_,weight))\n",
    "    def remove_edge(self,from_:int,to:int):\n",
    "        self.graph[from_]=[e for e in self.graph[from_] if e.to!=to]\n",
    "        self.graph[to]=[e for e in self.graph[to] if e.to!=from_]\n",
    "    def has_edge(self,from_:int,to:int)->bool:\n",
    "        for e in self.graph[from_]:\n",
    "            if e.to==to:\n",
    "                return True\n",
    "        return False\n",
    "    def neighbors(self,from_:int):\n",
    "        return [e for e in self.graph[from_]]\n",
    "    def size(self):\n",
    "        return len(self.graph)\n",
    "    \n"
   ]
  },
  {
   "cell_type": "markdown",
   "id": "4c3b8da8",
   "metadata": {},
   "source": [
    "### 遍历所有节点\n",
    "对于图来说因为从本质上近似于树，所以可以使用深度优先搜索或者广度优先搜索来遍历所有节点  \n",
    "但是图中可能存在环，环会导致互为子节点因此指针在两者之间跳动  \n",
    "所以需要使用一个数组visited 来记录每个节点是否被访问过（当访问过时直接回退指针）\n",
    "\n",
    "\n"
   ]
  },
  {
   "cell_type": "code",
   "execution_count": null,
   "id": "c615f04d",
   "metadata": {},
   "outputs": [],
   "source": [
    "# BFS\n",
    "class muti_tree:\n",
    "    def __init__(self,val):\n",
    "        self.val=val\n",
    "        self.children=[]\n",
    "def traverse_graph(S:muti_tree,visited:[bool]):\n",
    "    if S is None:\n",
    "        return\n",
    "    if visited[S.val]:\n",
    "        return\n",
    "    visited[S.val]=True\n",
    "    for child in S.children:\n",
    "        traverse_graph(child,visited)"
   ]
  },
  {
   "cell_type": "code",
   "execution_count": null,
   "id": "162165d4",
   "metadata": {},
   "outputs": [],
   "source": [
    "# 因为已经统一了图的API，可以使用近似的方式实现BFS、DFS\n",
    "def traverse_graph(graph:WeightDigraph,root:int,visited):\n",
    "    if root < 0 or root > len(graph.graph):\n",
    "        return \n",
    "    if visited[graph.graph[root]]:\n",
    "        return\n",
    "    visited[graph.graph[root]]=True\n",
    "    for e in graph.neighbors[root]:\n",
    "        traverse_graph(graph,e.to,visited)"
   ]
  },
  {
   "cell_type": "code",
   "execution_count": null,
   "id": "4bf957cb",
   "metadata": {},
   "outputs": [],
   "source": []
  }
 ],
 "metadata": {
  "kernelspec": {
   "display_name": "base",
   "language": "python",
   "name": "python3"
  },
  "language_info": {
   "codemirror_mode": {
    "name": "ipython",
    "version": 3
   },
   "file_extension": ".py",
   "mimetype": "text/x-python",
   "name": "python",
   "nbconvert_exporter": "python",
   "pygments_lexer": "ipython3",
   "version": "3.12.7"
  }
 },
 "nbformat": 4,
 "nbformat_minor": 5
}
