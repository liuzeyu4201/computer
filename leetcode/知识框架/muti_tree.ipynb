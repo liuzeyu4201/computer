{
 "cells": [
  {
   "cell_type": "markdown",
   "id": "c5584710",
   "metadata": {},
   "source": [
    "# 多叉树"
   ]
  },
  {
   "cell_type": "markdown",
   "id": "71fb377e",
   "metadata": {},
   "source": [
    "多叉树类似于二叉树，但是子节点个数可以是任意多个。"
   ]
  },
  {
   "cell_type": "code",
   "execution_count": null,
   "id": "225f4869",
   "metadata": {},
   "outputs": [],
   "source": [
    "class Node:\n",
    "    def __init__(self,val:int):\n",
    "        self.val =val\n",
    "        self.children=[]"
   ]
  },
  {
   "cell_type": "markdown",
   "id": "b8975a16",
   "metadata": {},
   "source": [
    "## 多叉树的遍历"
   ]
  },
  {
   "cell_type": "markdown",
   "id": "d87acf6f",
   "metadata": {},
   "source": [
    "- 对于多叉树的层序遍历与二叉树类似。\n",
    "但是对于多叉树来说，没有明显的左子树因此中序遍历是没有意义的。"
   ]
  },
  {
   "cell_type": "code",
   "execution_count": null,
   "id": "cb15c5c2",
   "metadata": {},
   "outputs": [],
   "source": [
    "def traverse_n_tree(root:Node):\n",
    "    if root is None:\n",
    "        return \n",
    "    # 前序节点\n",
    "    for child in root.children:\n",
    "        traverse_n_tree(child)\n",
    "    # 后序节点\n",
    "    # 当某一个节点的所有子节点全部被访问后，才会访问到后序节点\n",
    "    #print(root.val)"
   ]
  },
  {
   "cell_type": "markdown",
   "id": "6b2104bd",
   "metadata": {},
   "source": [
    "- 对于多叉树的层序遍历来说，几乎完全类似于二叉树，无非是扩展为多个子节点。"
   ]
  },
  {
   "cell_type": "code",
   "execution_count": null,
   "id": "d7452e55",
   "metadata": {},
   "outputs": [],
   "source": [
    "from collections import deque\n",
    "def level_order(root:Node):\n",
    "    q=deque()\n",
    "    q.append(root)\n",
    "    while q:\n",
    "        node=q.popleft()\n",
    "        for child in node.children:\n",
    "            q.append(child)"
   ]
  },
  {
   "cell_type": "code",
   "execution_count": null,
   "id": "0289df58",
   "metadata": {},
   "outputs": [],
   "source": [
    "# 记录深度信息的层序遍历\n",
    "def count_leverl_order(root:Node):\n",
    "    q=deque()\n",
    "    q.append(root)\n",
    "    count=1\n",
    "    while q:\n",
    "        length= len(q)\n",
    "        for i in range(length):\n",
    "            node=q.popleft()\n",
    "            print(node.val)\n",
    "            for child in node.children:\n",
    "                q.append(child)\n",
    "        count+=1"
   ]
  }
 ],
 "metadata": {
  "kernelspec": {
   "display_name": "base",
   "language": "python",
   "name": "python3"
  },
  "language_info": {
   "codemirror_mode": {
    "name": "ipython",
    "version": 3
   },
   "file_extension": ".py",
   "mimetype": "text/x-python",
   "name": "python",
   "nbconvert_exporter": "python",
   "pygments_lexer": "ipython3",
   "version": "3.12.7"
  }
 },
 "nbformat": 4,
 "nbformat_minor": 5
}
