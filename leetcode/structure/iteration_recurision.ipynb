{
 "cells": [
  {
   "cell_type": "markdown",
   "metadata": {},
   "source": [
    "# 复杂度分析"
   ]
  },
  {
   "cell_type": "markdown",
   "metadata": {},
   "source": [
    "## 迭代与递归"
   ]
  },
  {
   "cell_type": "markdown",
   "metadata": {},
   "source": [
    "iteration\n",
    "1. for loop\n",
    "2. while loop\n",
    "区别是 \n",
    "for loop 更加 直观 效率更高\n",
    "while loop 更自由化"
   ]
  },
  {
   "cell_type": "markdown",
   "metadata": {},
   "source": [
    "recurision（递归）：\n",
    "1. 不断调用自身直到‘终止条件’\n",
    "2. 触发终止条件，从最深层开始逐层返回，汇聚每一层的结果。\n",
    "\n",
    "\n",
    "在向下递归过程中 函数都会储存在‘栈帧空间’\n",
    "当向上计算时被释放。\n",
    "因为每次都存入不用位置，因此更消耗内存。"
   ]
  },
  {
   "cell_type": "markdown",
   "metadata": {},
   "source": [
    "选择递归与迭代取决于问题"
   ]
  },
  {
   "cell_type": "code",
   "execution_count": 7,
   "metadata": {},
   "outputs": [
    {
     "name": "stdout",
     "output_type": "stream",
     "text": [
      "120\n",
      "3\n",
      "120\n"
     ]
    }
   ],
   "source": [
    "# ex1:\n",
    "def factorial(n):\n",
    "    if n==0 :\n",
    "        return 1\n",
    "    else:\n",
    "        res=n * factorial(n-1)\n",
    "    return res\n",
    "print(factorial(5))\n",
    "'''\n",
    "n=5\n",
    "res= 5* (f(4))\n",
    "\n",
    "n=4\n",
    "res=5*(4*(f(3)))\n",
    "\n",
    "n=0\n",
    "res=5*(4*(3*(2*(*1))))\n",
    "\n",
    "'''\n",
    "#ex2:\n",
    "def Fibonacci(n):\n",
    "    if n == 1 or n ==2 :\n",
    "        return n-1\n",
    "    else:\n",
    "        res= Fibonacci(n-1) + Fibonacci(n-2)\n",
    "    return res\n",
    "print(Fibonacci(5))\n",
    "\n",
    "\n",
    "# ex3 尾巴递归\n",
    "def tail_cur(n):\n",
    "    if n == 0:\n",
    "        return 1\n",
    "    return n*tail_cur(n-1)\n",
    "print(tail_cur(5))\n"
   ]
  },
  {
   "cell_type": "markdown",
   "metadata": {},
   "source": [
    "## 时间复杂度计算"
   ]
  },
  {
   "cell_type": "markdown",
   "metadata": {},
   "source": [
    "时间复杂度推算：\n",
    "1. 统计操作数量\n",
    "2. 判断渐进上界"
   ]
  },
  {
   "cell_type": "markdown",
   "metadata": {},
   "source": [
    "### 常见的时间复杂度"
   ]
  },
  {
   "cell_type": "markdown",
   "metadata": {},
   "source": [
    "O(1): 定值循环\n",
    "O(N): 单层循环，递归，遍历链表和数组\n",
    "O(log): 循环量每轮减半\n",
    "O（N^2）: 双层循环\n",
    "O(2^N): 双变量递归"
   ]
  },
  {
   "cell_type": "markdown",
   "metadata": {},
   "source": [
    "## 空间复杂度"
   ]
  },
  {
   "cell_type": "markdown",
   "metadata": {},
   "source": [
    "空间\n",
    "1. 输入空间（输入数据）\n",
    "2. 暂存空间 存储算法的变量对象。（1. 暂存数据：运算 变量，对象（class），2. 栈帧空间（上下文数据，函数（def）））\n",
    "3. 输出空间（输出数据）"
   ]
  },
  {
   "cell_type": "markdown",
   "metadata": {},
   "source": [
    "常见的空间复杂度\n",
    "1. O(1) ：常量，对象\n",
    "2. O(n)： 数组，链表 哈希表\n",
    "3. O(n^2)： 二维数组、递归中创建链表\n",
    "4. O(2^n): 树结构，二次递归"
   ]
  }
 ],
 "metadata": {
  "kernelspec": {
   "display_name": "base",
   "language": "python",
   "name": "python3"
  },
  "language_info": {
   "codemirror_mode": {
    "name": "ipython",
    "version": 3
   },
   "file_extension": ".py",
   "mimetype": "text/x-python",
   "name": "python",
   "nbconvert_exporter": "python",
   "pygments_lexer": "ipython3",
   "version": "3.10.8"
  }
 },
 "nbformat": 4,
 "nbformat_minor": 2
}
