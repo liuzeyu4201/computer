{
 "cells": [
  {
   "cell_type": "markdown",
   "metadata": {},
   "source": [
    "# 数据结构"
   ]
  },
  {
   "cell_type": "markdown",
   "metadata": {},
   "source": [
    "## 逻辑结构"
   ]
  },
  {
   "cell_type": "markdown",
   "metadata": {},
   "source": [
    "1. 常见的逻辑结构\n",
    "    线性结构：数组、链表\n",
    "    非线性： 图、树、堆\n",
    "    maxiture： 哈希表\n",
    "2. 物理结构-内存\n",
    "    顺序存储\n",
    "    离散存储\n",
    "3. **所有的数据结构都可以基于数组和链表**"
   ]
  },
  {
   "cell_type": "markdown",
   "metadata": {},
   "source": [
    "## 基本数据类型"
   ]
  },
  {
   "cell_type": "markdown",
   "metadata": {},
   "source": [
    "1. byte、int、long\n",
    "2. float、double\n",
    "3. char\n",
    "4. bool   \n",
    "5. **基本数据结构给定了数据实质，逻辑结构给定了数据的排列方式**\n",
    "6. 1字节等于8bits(位) ，不同语言 不同大小"
   ]
  },
  {
   "cell_type": "markdown",
   "metadata": {},
   "source": [
    "### Python 基本数据展示"
   ]
  },
  {
   "cell_type": "code",
   "execution_count": 5,
   "metadata": {},
   "outputs": [
    {
     "name": "stdout",
     "output_type": "stream",
     "text": [
      "28\n",
      "<class 'int'>\n",
      "24\n",
      "<class 'float'>\n",
      "50\n",
      "<class 'str'>\n"
     ]
    }
   ],
   "source": [
    "import sys\n",
    "\n",
    "# int\n",
    "print(sys.getsizeof(3)) # 28 字节\n",
    "print(type(3))\n",
    "# long -被完全去掉\n",
    "\n",
    "# float\n",
    "print(sys.getsizeof(3.0)) # 24 字节\n",
    "print(type(3.0))\n",
    "# double -被完全去掉\n",
    "\n",
    "# char\n",
    "print(sys.getsizeof('a')) # 50 字节\n",
    "print(type('a'))"
   ]
  },
  {
   "cell_type": "markdown",
   "metadata": {},
   "source": [
    "### python 中 数据结构模拟"
   ]
  },
  {
   "cell_type": "markdown",
   "metadata": {},
   "source": [
    "类（Class）是面向对象编程（OOP）的核心，它用于封装数据（属性）和行为（方法）。通过类，你可以定义对象的属性和行为，使得代码更加模块化和易于维护。\n",
    "\n",
    "数据结构（Data Structure）则是用来组织、存储数据的方式。例如，链表、堆、栈、队列等就是常见的数据结构，它们帮助你高效地存储和操作数据。\n",
    "\n",
    "在 Python 中，类可以用来实现和封装常见的数据结构。换句话说，你可以通过定义一个类来实现栈（stack）、队列（queue）、链表（linked list）等数据结构的行为。"
   ]
  },
  {
   "cell_type": "markdown",
   "metadata": {},
   "source": [
    "数组：\n",
    "1. 顺序存储（Contiguous Storage）\n",
    "数组的元素在内存中是连续存储的，即每个元素紧挨着前一个元素存放。\n",
    "由于数组在内存中是连续的，计算机可以直接通过索引来访问任何一个元素，效率非常高。\n",
    "2. 固定大小（Fixed Size）\n",
    "数组大小在创建时就确定，一旦创建，数组的大小就无法更改（静态数组）。\n",
    "在某些语言中，可以使用动态数组（例如，Python 中的列表，C++ 中的 std::vector），这些数组会根据需要自动调整大小，但在大多数传统数据结构中，数组是固定大小的。\n",
    "3. 随机访问（Random Access）\n",
    "数组允许通过索引进行常数时间的访问（O(1)），也就是通过给定的索引位置，直接访问对应的元素。\n",
    "由于数组是顺序存储的，访问任何一个元素的时间复杂度是恒定的，与数组大小无关。\n",
    "4. 元素类型统一（Homogeneous Elements）\n",
    "数组中的所有元素类型是相同的。这意味着数组只能存储一种数据类型的元素（例如，所有元素都是整数、浮点数、字符等）。\n",
    "5. 在 Python 中，列表可以存储不同类型的元素，但在许多传统的数组实现中（如 C、Java 中的数组），数组的元素类型是固定的。\n",
    "6. 可以修改数组中内容"
   ]
  },
  {
   "cell_type": "code",
   "execution_count": 22,
   "metadata": {},
   "outputs": [
    {
     "name": "stdout",
     "output_type": "stream",
     "text": [
      "5\n"
     ]
    },
    {
     "ename": "TypeError",
     "evalue": "错误类型",
     "output_type": "error",
     "traceback": [
      "\u001b[0;31m---------------------------------------------------------------------------\u001b[0m",
      "\u001b[0;31mTypeError\u001b[0m                                 Traceback (most recent call last)",
      "Cell \u001b[0;32mIn[22], line 28\u001b[0m\n\u001b[1;32m     26\u001b[0m L\u001b[38;5;241m=\u001b[39marray(\u001b[38;5;241m5\u001b[39m)\n\u001b[1;32m     27\u001b[0m \u001b[38;5;28mprint\u001b[39m(\u001b[38;5;28mlen\u001b[39m(L))\n\u001b[0;32m---> 28\u001b[0m \u001b[38;5;28mprint\u001b[39m(\u001b[43mL\u001b[49m\u001b[38;5;241;43m.\u001b[39;49m\u001b[43mset\u001b[49m\u001b[43m(\u001b[49m\u001b[38;5;241;43m2\u001b[39;49m\u001b[43m,\u001b[49m\u001b[38;5;124;43m'\u001b[39;49m\u001b[38;5;124;43mhello\u001b[39;49m\u001b[38;5;124;43m'\u001b[39;49m\u001b[43m)\u001b[49m)\n\u001b[1;32m     29\u001b[0m \u001b[38;5;28mprint\u001b[39m(L\u001b[38;5;241m.\u001b[39mget(\u001b[38;5;241m2\u001b[39m))\n\u001b[1;32m     30\u001b[0m \u001b[38;5;28mprint\u001b[39m(L\u001b[38;5;241m.\u001b[39mset(\u001b[38;5;241m2\u001b[39m,\u001b[38;5;241m3\u001b[39m))\n",
      "Cell \u001b[0;32mIn[22], line 17\u001b[0m, in \u001b[0;36marray.set\u001b[0;34m(self, index, value)\u001b[0m\n\u001b[1;32m     15\u001b[0m         \u001b[38;5;28;01mraise\u001b[39;00m \u001b[38;5;167;01mIndexError\u001b[39;00m(\u001b[38;5;124m'\u001b[39m\u001b[38;5;124mout of index\u001b[39m\u001b[38;5;124m'\u001b[39m)\n\u001b[1;32m     16\u001b[0m \u001b[38;5;28;01melse\u001b[39;00m:\n\u001b[0;32m---> 17\u001b[0m     \u001b[38;5;28;01mraise\u001b[39;00m \u001b[38;5;167;01mTypeError\u001b[39;00m(\u001b[38;5;124m'\u001b[39m\u001b[38;5;124m错误类型\u001b[39m\u001b[38;5;124m'\u001b[39m)\n",
      "\u001b[0;31mTypeError\u001b[0m: 错误类型"
     ]
    }
   ],
   "source": [
    "# 数组-list\n",
    "class array:\n",
    "    def __init__(self,n):\n",
    "        self.array=[None]*n\n",
    "\n",
    "    \n",
    "    def set(self,index,value):\n",
    "        for i in self.array:\n",
    "            if type(i)== type(None):\n",
    "                  arr_type=type(i)\n",
    "        if type(value) == arr_type:\n",
    "            if 0 <= index <= len(self.array):\n",
    "                        self.array[index]=value;\n",
    "            else:\n",
    "                raise IndexError('out of index')\n",
    "        else:\n",
    "            raise TypeError('错误类型')\n",
    "    def get(self,index):\n",
    "        if 0 <= index <= len(self.array):\n",
    "            return self.array[index]\n",
    "        else:\n",
    "            raise IndexError('out of index')\n",
    "    def __len__(self):\n",
    "        return len(self.array)\n",
    "\n",
    "L=array(5)\n",
    "print(len(L))\n",
    "print(L.set(2,'hello'))\n",
    "print(L.get(2))\n",
    "print(L.set(2,3))"
   ]
  },
  {
   "cell_type": "code",
   "execution_count": 16,
   "metadata": {},
   "outputs": [
    {
     "data": {
      "text/plain": [
       "False"
      ]
     },
     "execution_count": 16,
     "metadata": {},
     "output_type": "execute_result"
    }
   ],
   "source": []
  },
  {
   "cell_type": "code",
   "execution_count": 17,
   "metadata": {},
   "outputs": [
    {
     "data": {
      "text/plain": [
       "NoneType"
      ]
     },
     "execution_count": 17,
     "metadata": {},
     "output_type": "execute_result"
    }
   ],
   "source": [
    "type(None)"
   ]
  },
  {
   "cell_type": "code",
   "execution_count": null,
   "metadata": {},
   "outputs": [],
   "source": []
  }
 ],
 "metadata": {
  "kernelspec": {
   "display_name": "base",
   "language": "python",
   "name": "python3"
  },
  "language_info": {
   "codemirror_mode": {
    "name": "ipython",
    "version": 3
   },
   "file_extension": ".py",
   "mimetype": "text/x-python",
   "name": "python",
   "nbconvert_exporter": "python",
   "pygments_lexer": "ipython3",
   "version": "3.10.8"
  }
 },
 "nbformat": 4,
 "nbformat_minor": 2
}
