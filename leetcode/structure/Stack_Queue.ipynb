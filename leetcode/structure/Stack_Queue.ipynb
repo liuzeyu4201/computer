{
 "cells": [
  {
   "cell_type": "markdown",
   "metadata": {},
   "source": [
    "# 栈与队列"
   ]
  },
  {
   "cell_type": "markdown",
   "metadata": {},
   "source": [
    "## 栈"
   ]
  },
  {
   "cell_type": "markdown",
   "metadata": {},
   "source": [
    "1. 入栈\n",
    "2. 出栈\n",
    "3. 查询头\n",
    "应用： 浏览器的前进与撤回"
   ]
  },
  {
   "cell_type": "markdown",
   "metadata": {},
   "source": [
    "###  栈实现"
   ]
  },
  {
   "cell_type": "code",
   "execution_count": 4,
   "metadata": {},
   "outputs": [
    {
     "data": {
      "text/plain": [
       "2"
      ]
     },
     "execution_count": 4,
     "metadata": {},
     "output_type": "execute_result"
    }
   ],
   "source": [
    "# 栈-链表 栈的添加和删除是在链头进行\n",
    "class ListNode:\n",
    "  def __init__(self,val:int):\n",
    "    self.val=val\n",
    "    self.next:ListNode|None=None\n",
    "\n",
    "class Stack_List:\n",
    "  def __init__(self):\n",
    "    self._size : int = 0\n",
    "    self._node:ListNode|None=None\n",
    "  def push(self,val:int):\n",
    "    node=ListNode(val)\n",
    "    node.next=self._node\n",
    "    self._node=node\n",
    "    self._size += 1\n",
    "  def pop(self):\n",
    "    self._node=self._node.next\n",
    "    self._size -= 1\n",
    "  def peek(self):\n",
    "    return self._node.val\n",
    "  def __len__(self):\n",
    "    return self._size\n",
    "\n",
    "stack=Stack_List()\n",
    "stack.push(1)\n",
    "stack.push(2)\n",
    "stack.peek()\n",
    "stack.pop\n",
    "stack.peek()\n"
   ]
  },
  {
   "cell_type": "code",
   "execution_count": 3,
   "metadata": {},
   "outputs": [
    {
     "data": {
      "text/plain": [
       "2"
      ]
     },
     "execution_count": 3,
     "metadata": {},
     "output_type": "execute_result"
    }
   ],
   "source": [
    "# 栈 -数组（动态）\n",
    "class Stack_array:\n",
    "  def __init__(self):\n",
    "    self.array=[int]\n",
    "  def push(self,val:int):\n",
    "    self.array.append(val)\n",
    "  def pop(self):\n",
    "    self.array=self.array.pop\n",
    "  def peek(self):\n",
    "    return self.array[-1]\n",
    "  def __len__(self):\n",
    "    return len(stack.array)\n",
    "stack=Stack_array()\n",
    "stack.push(1)\n",
    "stack.push(2)\n",
    "stack.peek()\n",
    "stack.pop\n",
    "stack.peek()"
   ]
  },
  {
   "cell_type": "markdown",
   "metadata": {},
   "source": [
    "## 队列"
   ]
  },
  {
   "cell_type": "markdown",
   "metadata": {},
   "source": [
    "1. 入队\n",
    "2. 出队\n",
    "3. 访问队首"
   ]
  },
  {
   "cell_type": "markdown",
   "metadata": {},
   "source": [
    "### 队列实现"
   ]
  },
  {
   "cell_type": "code",
   "execution_count": null,
   "metadata": {},
   "outputs": [],
   "source": [
    "# 队列 - 链表   队列拥有两个指针记录 头节点和尾节点\n",
    "class ListNode:\n",
    "  def __init__(self,val:int):\n",
    "    self.val=val\n",
    "    self.next:ListNode|None=None\n",
    "class Queue_List:\n",
    "  def __init__(self):\n",
    "    self._head : ListNode|None=None\n",
    "    self._tail : ListNode|None=None\n",
    "    self._size :int = 0\n",
    "  def push(self,val:int):\n",
    "    if self._tail == None:\n",
    "      self._tail= ListNode(val)\n",
    "    else:\n",
    "      self._tail.next=ListNode(val)\n",
    "    self._size +=1\n",
    "  def pop(self):\n",
    "    if self._head == None:\n",
    "      return None\n",
    "    else:\n",
    "      self._head= self._head.next\n",
    "      self._size -=1\n",
    "  def peek(self):\n",
    "    return self._tail.val\n",
    "queue=Queue_List()\n",
    "queue.push(1)\n",
    "queue.push(2)\n",
    "queue.peek()\n",
    "queue.pop()\n",
    "queue.peek()\n"
   ]
  },
  {
   "cell_type": "code",
   "execution_count": 8,
   "metadata": {},
   "outputs": [
    {
     "data": {
      "text/plain": [
       "1"
      ]
     },
     "execution_count": 8,
     "metadata": {},
     "output_type": "execute_result"
    }
   ],
   "source": [
    "# 队列 - 数组 同样使用两个指针记录头的尾\n",
    "class Queue_array:\n",
    "  def __init__(self):\n",
    "    self.array=[int]\n",
    "    self._size :int = 0\n",
    "    self._front: int = 0\n",
    "    self._tail : int = self._front+self._size\n",
    "  def push(self,val:int):\n",
    "    self.array.append(val)\n",
    "    self._tail += 1\n",
    "  def pop(self):\n",
    "    self.array[self._front]=self.array[self._front+1]\n",
    "  def peek(self):\n",
    "    return self.array[self._front]\n",
    "queue=Queue_array()\n",
    "queue.push(1)\n",
    "queue.push(2)\n",
    "queue.peek()\n",
    "queue.pop()\n",
    "queue.peek()"
   ]
  },
  {
   "cell_type": "markdown",
   "metadata": {},
   "source": [
    "## leetcode"
   ]
  },
  {
   "cell_type": "markdown",
   "metadata": {},
   "source": [
    "用两个栈来实现一个队列，使用n个元素来完成 n 次在队列尾部插入整数(push)和n次在队列头部删除整数(pop)的功能。 队列中的元素为int类型。保证操作合法，即保证pop操作时队列内已有元素。\n",
    "输入：\n",
    "[\"PSH1\",\"PSH2\",\"POP\",\"POP\"]\n",
    "返回值：1,2\n",
    "说明：\n",
    "\"PSH1\":代表将1插入队列尾部\n",
    "\"PSH2\":代表将2插入队列尾部\n",
    "\"POP“:代表删除一个元素，先进先出=>返回1\n",
    "\"POP“:代表删除一个元素，先进先出=>返回2 "
   ]
  },
  {
   "cell_type": "code",
   "execution_count": null,
   "metadata": {},
   "outputs": [],
   "source": [
    "# -*- coding:utf-8 -*-\n",
    "class Solution:\n",
    "    def __init__(self):\n",
    "        self.stack1 = []\n",
    "        self.stack2 = []\n",
    "    def push(self, node):\n",
    "        # write code here\n",
    "        self.stack1.append(node)\n",
    "    def pop(self):\n",
    "        # return xx\n",
    "        if len(self.stack2) != 0:\n",
    "            return self.stack2.pop()\n",
    "        else:\n",
    "            while True:\n",
    "                if len(self.stack1) != 0:\n",
    "                    self.stack2.append(self.stack1.pop())\n",
    "                else:\n",
    "                    break\n",
    "            return self.stack2.pop()\n",
    "'''\n",
    "1. 动态数组模拟栈\n",
    "2. 使用两个栈 将循序颠倒\n",
    "3. 如何 stack2 没有输出完成 stack1 先不要弹入 stack2\n",
    "'''"
   ]
  },
  {
   "cell_type": "markdown",
   "metadata": {},
   "source": [
    "定义栈的数据结构，请在该类型中实现一个能够得到栈中所含最小元素的 min 函数，输入操作时保证 pop、top 和 min 函数操作时，栈中一定有元素。\n",
    "此栈包含的方法有：\n",
    "push(value):将value压入栈中\n",
    "pop():弹出栈顶元素\n",
    "top():获取栈顶元素\n",
    "min():获取栈中最小元素\n",
    "示例:\n",
    "输入:    [\"PSH-1\",\"PSH2\",\"MIN\",\"TOP\",\"POP\",\"PSH1\",\"TOP\",\"MIN\"]\n",
    "输出:    -1,2,1,-1\n",
    "解析:\n",
    "\"PSH-1\"表示将-1压入栈中，栈中元素为-1\n",
    "\"PSH2\"表示将2压入栈中，栈中元素为2，-1\n",
    "“MIN”表示获取此时栈中最小元素==>返回-1\n",
    "\"TOP\"表示获取栈顶元素==>返回2\n",
    "\"POP\"表示弹出栈顶元素，弹出2，栈中元素为-1\n",
    "\"PSH1\"表示将1压入栈中，栈中元素为1，-1\n",
    "\"TOP\"表示获取栈顶元素==>返回1\n",
    "“MIN”表示获取此时栈中最小元素==>返回-1"
   ]
  },
  {
   "cell_type": "code",
   "execution_count": 1,
   "metadata": {},
   "outputs": [],
   "source": [
    "# -*- coding:utf-8 -*-\n",
    "class Solution:\n",
    "    def __init__(self):\n",
    "        self._array=[]\n",
    "    def push(self, node):\n",
    "        # write code here\n",
    "        self._array.append(node)\n",
    "    def pop(self):\n",
    "        # write code here\n",
    "        self._array.pop()\n",
    "    def top(self):\n",
    "        # write code here\n",
    "        return self._array[-1]\n",
    "    def min(self):\n",
    "        # write code here\n",
    "        return min(self._array)\n",
    "\n",
    "# 使用数组模拟栈"
   ]
  },
  {
   "cell_type": "markdown",
   "metadata": {},
   "source": [
    "输入两个整数序列，第一个序列表示栈的压入顺序，请判断第二个序列是否可能为该栈的弹出顺序。假设压入栈的所有数字均不相等。例如序列1,2,3,4,5是某栈的压入顺序，序列4,5,3,2,1是该压栈序列对应的一个弹出序列，但4,3,5,1,2就不可能是该压栈序列的弹出序列。\n",
    "1. 0<=pushV.length == popV.length <=1000\n",
    "2. -1000<=pushV[i]<=1000\n",
    "3. pushV 的所有数字均不相同\n",
    "输入： [1,2,3,4,5],[4,5,3,2,1]\n",
    "返回值： true\n",
    "输入： [1,2,3,4,5],[4,3,5,1,2]\n",
    "返回值： false"
   ]
  },
  {
   "cell_type": "code",
   "execution_count": null,
   "metadata": {},
   "outputs": [],
   "source": [
    "class Solution:\n",
    "    def IsPopOrder(self , pushV: List[int], popV: List[int]) -> bool:\n",
    "        # write code here\n",
    "        _array=[]\n",
    "        for val in pushV:\n",
    "            _array.append(val)\n",
    "            while True:\n",
    "                print(popV)\n",
    "                print(_array)\n",
    "                if len(popV) == 0 or len(_array)==0:\n",
    "                    break\n",
    "                else:\n",
    "                    if _array[-1] == popV[0]:\n",
    "                        _array.pop()\n",
    "                        del popV[0]\n",
    "                    else:\n",
    "                        break\n",
    "        \n",
    "        if len(_array) != 0:\n",
    "            return False\n",
    "        else :\n",
    "            return True\n",
    "'''\n",
    "1. 找到算法规律即可\n",
    "\n",
    "'''"
   ]
  },
  {
   "cell_type": "markdown",
   "metadata": {},
   "source": [
    "牛客最近来了一个新员工Fish，每天早晨总是会拿着一本英文杂志，写些句子在本子上。同事Cat对Fish写的内容颇感兴趣，有一天他向Fish借来翻看，但却读不懂它的意思。例如，“nowcoder. a am I”。后来才意识到，这家伙原来把句子单词的顺序翻转了，正确的句子应该是“I am a nowcoder.”。Cat对一一的翻转这些单词顺序可不在行，你能帮助他么？"
   ]
  },
  {
   "cell_type": "code",
   "execution_count": null,
   "metadata": {},
   "outputs": [],
   "source": [
    "import re\n",
    "#\n",
    "# 代码中的类名、方法名、参数名已经指定，请勿修改，直接返回方法规定的值即可\n",
    "#\n",
    "# \n",
    "# @param str string字符串 \n",
    "# @return string字符串\n",
    "#\n",
    "class Solution:\n",
    "    def ReverseSentence(self , str: str) -> str:\n",
    "        # write code here\n",
    "        _array=[]\n",
    "        ans=''\n",
    "        for i in re.split(r\"(\\s+)\", str):\n",
    "            _array.append(i)\n",
    "        while len(_array) != 0:\n",
    "            ans=ans+_array.pop()\n",
    "        return ans\n",
    "'''\n",
    "1. 考察正则表达式应用\n",
    "2. 这题体现出 栈可以颠倒队列顺序。\n",
    "'''"
   ]
  }
 ],
 "metadata": {
  "kernelspec": {
   "display_name": "base",
   "language": "python",
   "name": "python3"
  },
  "language_info": {
   "codemirror_mode": {
    "name": "ipython",
    "version": 3
   },
   "file_extension": ".py",
   "mimetype": "text/x-python",
   "name": "python",
   "nbconvert_exporter": "python",
   "pygments_lexer": "ipython3",
   "version": "3.10.8"
  }
 },
 "nbformat": 4,
 "nbformat_minor": 2
}
