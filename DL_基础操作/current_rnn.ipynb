{
 "cells": [
  {
   "cell_type": "markdown",
   "metadata": {},
   "source": [
    "# 现代循环网络"
   ]
  },
  {
   "cell_type": "code",
   "execution_count": 2,
   "metadata": {},
   "outputs": [],
   "source": [
    "import collections\n",
    "import math\n",
    "import torch\n",
    "from torch import nn\n",
    "from d2l import torch as d2l\n",
    "import os"
   ]
  },
  {
   "cell_type": "markdown",
   "metadata": {},
   "source": [
    "## 数据加载"
   ]
  },
  {
   "cell_type": "code",
   "execution_count": 2,
   "metadata": {},
   "outputs": [
    {
     "name": "stdout",
     "output_type": "stream",
     "text": [
      "Go.\tVa !\n",
      "Hi.\tSalut !\n",
      "Run!\tCours !\n",
      "Run!\tCourez !\n",
      "Who?\tQui ?\n",
      "Wow!\tÇa alors !\n",
      "\n"
     ]
    }
   ],
   "source": [
    "d2l.DATA_HUB['fra-eng'] = (d2l.DATA_URL + 'fra-eng.zip', '94646ad1522d915e7b0f9296181140edcf86a4f5')\n",
    "#@save\n",
    "def read_data_nmt():\n",
    "    \"\"\"载入“英语－法语”数据集\"\"\"\n",
    "    data_dir = d2l.download_extract('fra-eng')\n",
    "    with open(os.path.join(data_dir, 'fra.txt'), 'r',\n",
    "        encoding='utf-8') as f:\n",
    "        return f.read()\n",
    "raw_text = read_data_nmt()\n",
    "print(raw_text[:75])"
   ]
  },
  {
   "cell_type": "code",
   "execution_count": 3,
   "metadata": {},
   "outputs": [
    {
     "name": "stdout",
     "output_type": "stream",
     "text": [
      "go .\tva !\n",
      "hi .\tsalut !\n",
      "run !\tcours !\n",
      "run !\tcourez !\n",
      "who ?\tqui ?\n",
      "wow !\tça alors !\n"
     ]
    }
   ],
   "source": [
    "def preprocess_nmt(text):\n",
    "    def no_space(char, prev_char):\n",
    "        return char in set(',.!?') and prev_char != ' '\n",
    "        # 使用空格替换不间断空格\n",
    "        # 使用小写字母替换大写字母\n",
    "    text = text.replace('\\u202f', ' ').replace('\\xa0', ' ').lower()\n",
    "        # 在单词和标点符号之间插入空格\n",
    "    out = [' ' + char if i > 0 and no_space(char, text[i - 1]) else char\n",
    "        for i, char in enumerate(text)]\n",
    "    return ''.join(out)\n",
    "text = preprocess_nmt(raw_text)\n",
    "print(text[:80])"
   ]
  },
  {
   "cell_type": "code",
   "execution_count": 4,
   "metadata": {},
   "outputs": [
    {
     "data": {
      "text/plain": [
       "[['go', '.'], ['hi', '.'], ['run', '!']]"
      ]
     },
     "execution_count": 4,
     "metadata": {},
     "output_type": "execute_result"
    }
   ],
   "source": [
    "def tokenize_nmt(text,num_examples=None):\n",
    "    source,target=[],[]\n",
    "    for i , line in enumerate(text.split('\\n')):\n",
    "        if num_examples and i > num_examples:\n",
    "            break\n",
    "        parts=line.split('\\t')\n",
    "        if len(parts)==2:\n",
    "            source.append(parts[0].split(' '))\n",
    "            target.append(parts[1].split(' '))\n",
    "    return source,target\n",
    "source,target=tokenize_nmt(text)\n",
    "source[:3]"
   ]
  },
  {
   "cell_type": "code",
   "execution_count": 5,
   "metadata": {},
   "outputs": [
    {
     "data": {
      "text/plain": [
       "10012"
      ]
     },
     "execution_count": 5,
     "metadata": {},
     "output_type": "execute_result"
    }
   ],
   "source": [
    "src_vocab = d2l.Vocab(source, min_freq=2,\n",
    "reserved_tokens=['<pad>', '<bos>', '<eos>'])\n",
    "len(src_vocab)"
   ]
  },
  {
   "cell_type": "markdown",
   "metadata": {},
   "source": [
    "为了提高计算效率，我们仍然可以通过截断（truncation）和填充（padding）方式实现一次只处理一个小批\n",
    "量的文本序列。假设同一个小批量中的每个序列都应该具有相同的长度num_steps，那么如果文本序列的词\n",
    "元数目少于num_steps时，我们将继续在其末尾添加特定的“<pad>”词元，直到其长度达到num_steps；反\n",
    "之，我们将截断文本序列时，只取其前num_steps 个词元，并且丢弃剩余的词元。这样，每个文本序列将具\n",
    "有相同的长度，以便以相同形状的小批量进行加载|"
   ]
  },
  {
   "cell_type": "code",
   "execution_count": 6,
   "metadata": {},
   "outputs": [
    {
     "data": {
      "text/plain": [
       "[47, 4, 1, 1, 1, 1, 1, 1, 1, 1]"
      ]
     },
     "execution_count": 6,
     "metadata": {},
     "output_type": "execute_result"
    }
   ],
   "source": [
    "def truncate_pad(line,num_steps,padding_token):\n",
    "    if len(line) > num_steps:\n",
    "        return line[:num_steps]\n",
    "    else:\n",
    "        return line + [padding_token]*(num_steps-len(line))\n",
    "truncate_pad(src_vocab[source[0]],10,src_vocab['<pad>'])"
   ]
  },
  {
   "cell_type": "markdown",
   "metadata": {},
   "source": [
    "现在我们定义一个函数，可以将文本序列转换成小批量数据集用于训练。我们将特定的“<eos>”词元添加\n",
    "到所有序列的末尾，用于表示序列的结束。当模型通过一个词元接一个词元地生成序列进行预测时，生成的\n",
    "“<eos>”词元说明完成了序列输出工作。此外，我们还记录了每个文本序列的长度，统计长度时排除了填充\n",
    "词元，在稍后将要介绍的一些模型会需要这个长度信息"
   ]
  },
  {
   "cell_type": "code",
   "execution_count": 7,
   "metadata": {},
   "outputs": [],
   "source": [
    "def build_array_nmt(lines,vocab,num_steps):\n",
    "    lines=[vocab[l] for l in lines]\n",
    "    lines=[l+[vocab['<eos>']] for l in lines]\n",
    "    array= torch.tensor([truncate_pad(l,num_steps,src_vocab['<pad>']) for l in lines])\n",
    "    print(array[0])\n",
    "    valid_len=(array!=vocab['<pad>']).type(torch.int32).sum(1)\n",
    "    return array ,valid_len\n"
   ]
  },
  {
   "cell_type": "code",
   "execution_count": 8,
   "metadata": {},
   "outputs": [
    {
     "name": "stdout",
     "output_type": "stream",
     "text": [
      "tensor([47,  4,  3,  1,  1,  1,  1,  1,  1,  1])\n"
     ]
    }
   ],
   "source": [
    "array,valid_len=build_array_nmt(source,src_vocab,10)\n"
   ]
  },
  {
   "cell_type": "code",
   "execution_count": null,
   "metadata": {},
   "outputs": [],
   "source": []
  },
  {
   "cell_type": "markdown",
   "metadata": {},
   "source": [
    "## 编解码架构"
   ]
  },
  {
   "cell_type": "code",
   "execution_count": null,
   "metadata": {},
   "outputs": [],
   "source": []
  },
  {
   "cell_type": "markdown",
   "metadata": {},
   "source": [
    "## 编码器"
   ]
  },
  {
   "cell_type": "code",
   "execution_count": 9,
   "metadata": {},
   "outputs": [],
   "source": [
    "class Seq2SeqEncoder(d2l.Encoder):\n",
    "    def __init__(self,vocab_size,embed_size,num_hiddens,num_layers,drop_out=0,**kwargs):\n",
    "        super(Seq2SeqEncoder,self).__init__(**kwargs)\n",
    "        self.embedding=nn.Embedding(vocab_size,embed_size)\n",
    "        self.rnn=nn.GRU(embed_size,num_hiddens,num_layers,dropout=drop_out)\n",
    "    def forward(self,X,*args):\n",
    "        X=self.embedding(X) \n",
    "        X=X.permute(1,0,2)\n",
    "        output,state=self.rnn(X)\n",
    "        return output,state"
   ]
  },
  {
   "cell_type": "code",
   "execution_count": 10,
   "metadata": {},
   "outputs": [
    {
     "name": "stdout",
     "output_type": "stream",
     "text": [
      "torch.Size([7, 4, 16])\n",
      "torch.Size([2, 4, 16])\n"
     ]
    }
   ],
   "source": [
    "encoder = Seq2SeqEncoder(vocab_size=10, embed_size=8, num_hiddens=16,\n",
    "num_layers=2)\n",
    "encoder.eval()\n",
    "X = torch.zeros((4, 7), dtype=torch.long)\n",
    "output, state = encoder(X)\n",
    "print(output.shape)\n",
    "print(state.shape)"
   ]
  },
  {
   "cell_type": "code",
   "execution_count": 11,
   "metadata": {},
   "outputs": [
    {
     "data": {
      "text/plain": [
       "tuple"
      ]
     },
     "execution_count": 11,
     "metadata": {},
     "output_type": "execute_result"
    }
   ],
   "source": [
    "state=encoder(X)\n",
    "type(state)"
   ]
  },
  {
   "cell_type": "markdown",
   "metadata": {},
   "source": [
    "## 解码器"
   ]
  },
  {
   "cell_type": "code",
   "execution_count": 12,
   "metadata": {},
   "outputs": [],
   "source": [
    "class Seq2SeqDecoder(d2l.Decoder):\n",
    "    def __init__(self, vocab_size, embed_size, num_hiddens, num_layers,\n",
    "        dropout=0, **kwargs):\n",
    "        super(Seq2SeqDecoder, self).__init__(**kwargs)\n",
    "        self.embedding=nn.Embedding(vocab_size,embed_size)\n",
    "        self.rnn= nn.GRU(num_hiddens+embed_size,num_hiddens,num_layers,dropout=dropout)\n",
    "        self.dense=nn.Linear(num_hiddens,vocab_size)\n",
    "    \n",
    "    def init_state(self,state,*args):\n",
    "        return state[1]\n",
    "    \n",
    "    def forward(self,X,state):\n",
    "        X=self.embedding(X).permute(1,0,2)\n",
    "        context=state[-1].repeat(X.shape[0],1,1)\n",
    "        X_and_context=torch.cat((X,context),2)\n",
    "        output,state=self.rnn(X_and_context,state)\n",
    "        output=self.dense(output).permute(1,0,2)\n",
    "        return output,state\n"
   ]
  },
  {
   "cell_type": "code",
   "execution_count": 13,
   "metadata": {},
   "outputs": [
    {
     "data": {
      "text/plain": [
       "(torch.Size([4, 7, 10]), torch.Size([2, 4, 16]))"
      ]
     },
     "execution_count": 13,
     "metadata": {},
     "output_type": "execute_result"
    }
   ],
   "source": [
    "decoder = Seq2SeqDecoder(vocab_size=10, embed_size=8, num_hiddens=16,\n",
    "num_layers=2)\n",
    "decoder.eval()\n",
    "state = decoder.init_state(encoder(X))\n",
    "output, state = decoder(X, state)\n",
    "output.shape, state.shape"
   ]
  },
  {
   "cell_type": "code",
   "execution_count": 14,
   "metadata": {},
   "outputs": [
    {
     "data": {
      "text/plain": [
       "(tensor([[[-2.2833e-02,  1.1956e-01, -6.3467e-03,  8.5144e-02, -1.0668e-01,\n",
       "           -5.5747e-02, -1.3948e-02, -9.6089e-03,  1.1452e-01,  1.4833e-01,\n",
       "            5.1862e-02,  8.6366e-02,  9.2546e-03, -6.4532e-02, -2.6648e-02,\n",
       "           -2.1060e-02],\n",
       "          [-2.2833e-02,  1.1956e-01, -6.3467e-03,  8.5144e-02, -1.0668e-01,\n",
       "           -5.5747e-02, -1.3948e-02, -9.6089e-03,  1.1452e-01,  1.4833e-01,\n",
       "            5.1862e-02,  8.6366e-02,  9.2546e-03, -6.4532e-02, -2.6648e-02,\n",
       "           -2.1060e-02],\n",
       "          [-2.2833e-02,  1.1956e-01, -6.3467e-03,  8.5144e-02, -1.0668e-01,\n",
       "           -5.5747e-02, -1.3948e-02, -9.6089e-03,  1.1452e-01,  1.4833e-01,\n",
       "            5.1862e-02,  8.6366e-02,  9.2546e-03, -6.4532e-02, -2.6648e-02,\n",
       "           -2.1060e-02],\n",
       "          [-2.2833e-02,  1.1956e-01, -6.3467e-03,  8.5144e-02, -1.0668e-01,\n",
       "           -5.5747e-02, -1.3948e-02, -9.6089e-03,  1.1452e-01,  1.4833e-01,\n",
       "            5.1862e-02,  8.6366e-02,  9.2546e-03, -6.4532e-02, -2.6648e-02,\n",
       "           -2.1060e-02]],\n",
       " \n",
       "         [[ 1.5248e-02,  1.5567e-01, -9.0489e-03,  1.1127e-01, -1.5637e-01,\n",
       "           -6.7117e-02, -6.7383e-02,  3.0840e-02,  2.1240e-01,  2.8559e-01,\n",
       "            1.0398e-01,  1.5254e-01, -4.4236e-02, -9.5900e-02, -1.8684e-02,\n",
       "           -3.3502e-02],\n",
       "          [ 1.5248e-02,  1.5567e-01, -9.0489e-03,  1.1127e-01, -1.5637e-01,\n",
       "           -6.7117e-02, -6.7383e-02,  3.0840e-02,  2.1240e-01,  2.8559e-01,\n",
       "            1.0398e-01,  1.5254e-01, -4.4236e-02, -9.5900e-02, -1.8684e-02,\n",
       "           -3.3502e-02],\n",
       "          [ 1.5248e-02,  1.5567e-01, -9.0489e-03,  1.1127e-01, -1.5637e-01,\n",
       "           -6.7117e-02, -6.7383e-02,  3.0840e-02,  2.1240e-01,  2.8559e-01,\n",
       "            1.0398e-01,  1.5254e-01, -4.4236e-02, -9.5900e-02, -1.8684e-02,\n",
       "           -3.3502e-02],\n",
       "          [ 1.5248e-02,  1.5567e-01, -9.0489e-03,  1.1127e-01, -1.5637e-01,\n",
       "           -6.7117e-02, -6.7383e-02,  3.0840e-02,  2.1240e-01,  2.8559e-01,\n",
       "            1.0398e-01,  1.5254e-01, -4.4236e-02, -9.5900e-02, -1.8684e-02,\n",
       "           -3.3502e-02]],\n",
       " \n",
       "         [[ 6.0988e-02,  1.6147e-01, -2.1819e-02,  1.1388e-01, -1.7988e-01,\n",
       "           -6.6795e-02, -1.1964e-01,  8.2407e-02,  2.7701e-01,  3.7972e-01,\n",
       "            1.4010e-01,  2.0377e-01, -9.5418e-02, -1.1536e-01, -7.9494e-03,\n",
       "           -3.3258e-02],\n",
       "          [ 6.0988e-02,  1.6147e-01, -2.1819e-02,  1.1388e-01, -1.7988e-01,\n",
       "           -6.6795e-02, -1.1964e-01,  8.2407e-02,  2.7701e-01,  3.7972e-01,\n",
       "            1.4010e-01,  2.0377e-01, -9.5418e-02, -1.1536e-01, -7.9494e-03,\n",
       "           -3.3258e-02],\n",
       "          [ 6.0988e-02,  1.6147e-01, -2.1819e-02,  1.1388e-01, -1.7988e-01,\n",
       "           -6.6795e-02, -1.1964e-01,  8.2407e-02,  2.7701e-01,  3.7972e-01,\n",
       "            1.4010e-01,  2.0377e-01, -9.5418e-02, -1.1536e-01, -7.9494e-03,\n",
       "           -3.3258e-02],\n",
       "          [ 6.0988e-02,  1.6147e-01, -2.1819e-02,  1.1388e-01, -1.7988e-01,\n",
       "           -6.6795e-02, -1.1964e-01,  8.2407e-02,  2.7701e-01,  3.7972e-01,\n",
       "            1.4010e-01,  2.0377e-01, -9.5418e-02, -1.1536e-01, -7.9494e-03,\n",
       "           -3.3258e-02]],\n",
       " \n",
       "         [[ 9.6735e-02,  1.5691e-01, -3.9326e-02,  1.1133e-01, -1.9004e-01,\n",
       "           -6.4358e-02, -1.6049e-01,  1.2468e-01,  3.1487e-01,  4.3693e-01,\n",
       "            1.6313e-01,  2.4234e-01, -1.3171e-01, -1.2857e-01, -4.6470e-04,\n",
       "           -2.6390e-02],\n",
       "          [ 9.6735e-02,  1.5691e-01, -3.9326e-02,  1.1133e-01, -1.9004e-01,\n",
       "           -6.4358e-02, -1.6049e-01,  1.2468e-01,  3.1487e-01,  4.3693e-01,\n",
       "            1.6313e-01,  2.4234e-01, -1.3171e-01, -1.2857e-01, -4.6470e-04,\n",
       "           -2.6390e-02],\n",
       "          [ 9.6735e-02,  1.5691e-01, -3.9326e-02,  1.1133e-01, -1.9004e-01,\n",
       "           -6.4358e-02, -1.6049e-01,  1.2468e-01,  3.1487e-01,  4.3693e-01,\n",
       "            1.6313e-01,  2.4234e-01, -1.3171e-01, -1.2857e-01, -4.6470e-04,\n",
       "           -2.6390e-02],\n",
       "          [ 9.6735e-02,  1.5691e-01, -3.9326e-02,  1.1133e-01, -1.9004e-01,\n",
       "           -6.4358e-02, -1.6049e-01,  1.2468e-01,  3.1487e-01,  4.3693e-01,\n",
       "            1.6313e-01,  2.4234e-01, -1.3171e-01, -1.2857e-01, -4.6470e-04,\n",
       "           -2.6390e-02]],\n",
       " \n",
       "         [[ 1.2003e-01,  1.4998e-01, -5.6372e-02,  1.0855e-01, -1.9340e-01,\n",
       "           -6.2025e-02, -1.8943e-01,  1.5301e-01,  3.3525e-01,  4.6925e-01,\n",
       "            1.7771e-01,  2.7012e-01, -1.5490e-01, -1.3758e-01,  4.1024e-03,\n",
       "           -1.7717e-02],\n",
       "          [ 1.2003e-01,  1.4998e-01, -5.6372e-02,  1.0855e-01, -1.9340e-01,\n",
       "           -6.2025e-02, -1.8943e-01,  1.5301e-01,  3.3525e-01,  4.6925e-01,\n",
       "            1.7771e-01,  2.7012e-01, -1.5490e-01, -1.3758e-01,  4.1024e-03,\n",
       "           -1.7717e-02],\n",
       "          [ 1.2003e-01,  1.4998e-01, -5.6372e-02,  1.0855e-01, -1.9340e-01,\n",
       "           -6.2025e-02, -1.8943e-01,  1.5301e-01,  3.3525e-01,  4.6925e-01,\n",
       "            1.7771e-01,  2.7012e-01, -1.5490e-01, -1.3758e-01,  4.1024e-03,\n",
       "           -1.7717e-02],\n",
       "          [ 1.2003e-01,  1.4998e-01, -5.6372e-02,  1.0855e-01, -1.9340e-01,\n",
       "           -6.2025e-02, -1.8943e-01,  1.5301e-01,  3.3525e-01,  4.6925e-01,\n",
       "            1.7771e-01,  2.7012e-01, -1.5490e-01, -1.3758e-01,  4.1024e-03,\n",
       "           -1.7717e-02]],\n",
       " \n",
       "         [[ 1.3341e-01,  1.4365e-01, -7.0601e-02,  1.0603e-01, -1.9359e-01,\n",
       "           -6.0109e-02, -2.0880e-01,  1.6956e-01,  3.4534e-01,  4.8654e-01,\n",
       "            1.8708e-01,  2.8929e-01, -1.6903e-01, -1.4358e-01,  6.8785e-03,\n",
       "           -9.8457e-03],\n",
       "          [ 1.3341e-01,  1.4365e-01, -7.0601e-02,  1.0603e-01, -1.9359e-01,\n",
       "           -6.0109e-02, -2.0880e-01,  1.6956e-01,  3.4534e-01,  4.8654e-01,\n",
       "            1.8708e-01,  2.8929e-01, -1.6903e-01, -1.4358e-01,  6.8785e-03,\n",
       "           -9.8457e-03],\n",
       "          [ 1.3341e-01,  1.4365e-01, -7.0601e-02,  1.0603e-01, -1.9359e-01,\n",
       "           -6.0109e-02, -2.0880e-01,  1.6956e-01,  3.4534e-01,  4.8654e-01,\n",
       "            1.8708e-01,  2.8929e-01, -1.6903e-01, -1.4358e-01,  6.8785e-03,\n",
       "           -9.8457e-03],\n",
       "          [ 1.3341e-01,  1.4365e-01, -7.0601e-02,  1.0603e-01, -1.9359e-01,\n",
       "           -6.0109e-02, -2.0880e-01,  1.6956e-01,  3.4534e-01,  4.8654e-01,\n",
       "            1.8708e-01,  2.8929e-01, -1.6903e-01, -1.4358e-01,  6.8785e-03,\n",
       "           -9.8457e-03]],\n",
       " \n",
       "         [[ 1.4018e-01,  1.3876e-01, -8.1542e-02,  1.0358e-01, -1.9253e-01,\n",
       "           -5.8590e-02, -2.2131e-01,  1.7809e-01,  3.4977e-01,  4.9538e-01,\n",
       "            1.9321e-01,  3.0207e-01, -1.7747e-01, -1.4747e-01,  8.6527e-03,\n",
       "           -3.7789e-03],\n",
       "          [ 1.4018e-01,  1.3876e-01, -8.1542e-02,  1.0358e-01, -1.9253e-01,\n",
       "           -5.8590e-02, -2.2131e-01,  1.7809e-01,  3.4977e-01,  4.9538e-01,\n",
       "            1.9321e-01,  3.0207e-01, -1.7747e-01, -1.4747e-01,  8.6527e-03,\n",
       "           -3.7789e-03],\n",
       "          [ 1.4018e-01,  1.3876e-01, -8.1542e-02,  1.0358e-01, -1.9253e-01,\n",
       "           -5.8590e-02, -2.2131e-01,  1.7809e-01,  3.4977e-01,  4.9538e-01,\n",
       "            1.9321e-01,  3.0207e-01, -1.7747e-01, -1.4747e-01,  8.6527e-03,\n",
       "           -3.7789e-03],\n",
       "          [ 1.4018e-01,  1.3876e-01, -8.1542e-02,  1.0358e-01, -1.9253e-01,\n",
       "           -5.8590e-02, -2.2131e-01,  1.7809e-01,  3.4977e-01,  4.9538e-01,\n",
       "            1.9321e-01,  3.0207e-01, -1.7747e-01, -1.4747e-01,  8.6527e-03,\n",
       "           -3.7789e-03]]], grad_fn=<StackBackward0>),\n",
       " tensor([[[-0.4192, -0.2350, -0.4981, -0.4326,  0.5735, -0.1735,  0.0445,\n",
       "           -0.3125,  0.3015, -0.5190, -0.3373, -0.1471, -0.7320,  0.1947,\n",
       "            0.1059, -0.5769],\n",
       "          [-0.4192, -0.2350, -0.4981, -0.4326,  0.5735, -0.1735,  0.0445,\n",
       "           -0.3125,  0.3015, -0.5190, -0.3373, -0.1471, -0.7320,  0.1947,\n",
       "            0.1059, -0.5769],\n",
       "          [-0.4192, -0.2350, -0.4981, -0.4326,  0.5735, -0.1735,  0.0445,\n",
       "           -0.3125,  0.3015, -0.5190, -0.3373, -0.1471, -0.7320,  0.1947,\n",
       "            0.1059, -0.5769],\n",
       "          [-0.4192, -0.2350, -0.4981, -0.4326,  0.5735, -0.1735,  0.0445,\n",
       "           -0.3125,  0.3015, -0.5190, -0.3373, -0.1471, -0.7320,  0.1947,\n",
       "            0.1059, -0.5769]],\n",
       " \n",
       "         [[ 0.1402,  0.1388, -0.0815,  0.1036, -0.1925, -0.0586, -0.2213,\n",
       "            0.1781,  0.3498,  0.4954,  0.1932,  0.3021, -0.1775, -0.1475,\n",
       "            0.0087, -0.0038],\n",
       "          [ 0.1402,  0.1388, -0.0815,  0.1036, -0.1925, -0.0586, -0.2213,\n",
       "            0.1781,  0.3498,  0.4954,  0.1932,  0.3021, -0.1775, -0.1475,\n",
       "            0.0087, -0.0038],\n",
       "          [ 0.1402,  0.1388, -0.0815,  0.1036, -0.1925, -0.0586, -0.2213,\n",
       "            0.1781,  0.3498,  0.4954,  0.1932,  0.3021, -0.1775, -0.1475,\n",
       "            0.0087, -0.0038],\n",
       "          [ 0.1402,  0.1388, -0.0815,  0.1036, -0.1925, -0.0586, -0.2213,\n",
       "            0.1781,  0.3498,  0.4954,  0.1932,  0.3021, -0.1775, -0.1475,\n",
       "            0.0087, -0.0038]]], grad_fn=<StackBackward0>))"
      ]
     },
     "execution_count": 14,
     "metadata": {},
     "output_type": "execute_result"
    }
   ],
   "source": [
    "encoder(X)"
   ]
  },
  {
   "cell_type": "markdown",
   "metadata": {},
   "source": [
    "## 生成掩码 - 使得pad不参与计算"
   ]
  },
  {
   "cell_type": "code",
   "execution_count": 15,
   "metadata": {},
   "outputs": [],
   "source": [
    "def sequence_mask(X,valid_len,value=0):\n",
    "    maxlen=X.size(1)\n",
    "    mask=torch.arange((maxlen),dtype=torch.float32,device=X.device)[None,:] < valid_len[:,None] # 广播机制\n",
    "    '''\n",
    "    a=torch.tensor([[1,2,3]])\n",
    "    b=torch.tensor([[1],[2]])\n",
    "    a<b\n",
    "    '''\n",
    "    X[~mask]=value\n",
    "    return X\n"
   ]
  },
  {
   "cell_type": "code",
   "execution_count": 16,
   "metadata": {},
   "outputs": [
    {
     "data": {
      "text/plain": [
       "tensor([[1, 0, 0],\n",
       "        [4, 5, 0]])"
      ]
     },
     "execution_count": 16,
     "metadata": {},
     "output_type": "execute_result"
    }
   ],
   "source": [
    "X = torch.tensor([[1, 2, 3], [4, 5, 6]])\n",
    "sequence_mask(X, torch.tensor([1, 2]))"
   ]
  },
  {
   "cell_type": "code",
   "execution_count": 1,
   "metadata": {},
   "outputs": [
    {
     "ename": "NameError",
     "evalue": "name 'torch' is not defined",
     "output_type": "error",
     "traceback": [
      "\u001b[0;31m---------------------------------------------------------------------------\u001b[0m",
      "\u001b[0;31mNameError\u001b[0m                                 Traceback (most recent call last)",
      "Cell \u001b[0;32mIn[1], line 1\u001b[0m\n\u001b[0;32m----> 1\u001b[0m a\u001b[38;5;241m=\u001b[39m\u001b[43mtorch\u001b[49m\u001b[38;5;241m.\u001b[39mones((\u001b[38;5;241m8\u001b[39m,\u001b[38;5;241m4\u001b[39m,\u001b[38;5;241m2\u001b[39m))\n\u001b[1;32m      2\u001b[0m b\u001b[38;5;241m=\u001b[39mtorch\u001b[38;5;241m.\u001b[39mrand(\u001b[38;5;241m2\u001b[39m)\n",
      "\u001b[0;31mNameError\u001b[0m: name 'torch' is not defined"
     ]
    }
   ],
   "source": [
    "a=torch.ones((8,4,2))\n",
    "b=torch.rand(2)"
   ]
  },
  {
   "cell_type": "markdown",
   "metadata": {},
   "source": [
    "## 损失函数"
   ]
  },
  {
   "cell_type": "markdown",
   "metadata": {},
   "source": []
  },
  {
   "cell_type": "code",
   "execution_count": 17,
   "metadata": {},
   "outputs": [],
   "source": [
    "class MaskedSoftmaxCELoss(nn.CrossEntropyLoss):\n",
    "    # pred的形状：(batch_size,num_steps,vocab_size)\n",
    "    # label的形状：(batch_size,num_steps)\n",
    "    # valid_len的形状：(batch_size,)\n",
    "    def forward(self,pred,label,valid_len):\n",
    "        weight=torch.ones_like(label)   # weight 不是学习参数。 对每个类别的加权。\n",
    "        weight=sequence_mask(weight,valid_len)\n",
    "        self.reduction='none'\n",
    "        unweighted_loss=super(MaskedSoftmaxCELoss,self).forward(\n",
    "            pred.permute(0,2,1),label\n",
    "        )\n",
    "        weight_loss=(unweighted_loss*weight).mean(dim=1)\n",
    "        return weight_loss\n"
   ]
  },
  {
   "cell_type": "code",
   "execution_count": 18,
   "metadata": {},
   "outputs": [
    {
     "data": {
      "text/plain": [
       "tensor([2.3026, 1.1513, 0.0000])"
      ]
     },
     "execution_count": 18,
     "metadata": {},
     "output_type": "execute_result"
    }
   ],
   "source": [
    "loss = MaskedSoftmaxCELoss()\n",
    "loss(torch.ones(3, 4, 10), torch.ones((3, 4), dtype=torch.long),\n",
    "torch.tensor([4, 2, 0]))"
   ]
  },
  {
   "cell_type": "markdown",
   "metadata": {},
   "source": [
    "## 训练"
   ]
  },
  {
   "cell_type": "code",
   "execution_count": 19,
   "metadata": {},
   "outputs": [],
   "source": [
    "def train_seq2seq(net,device,lr,num_epochs,data_iter,tgt_vocab):\n",
    "    def xavier_init_weights(m):\n",
    "        if type(m) == nn.Linear:\n",
    "            nn.init.xavier_uniform_(m.weight)\n",
    "        if type(m) == nn.GRU:\n",
    "            for param in m._flat_weights_names:\n",
    "                if \"weight\" in param:\n",
    "                    nn.init.xavier_uniform_(m._parameters[param])\n",
    "    \n",
    "    net.apply(xavier_init_weights)\n",
    "    net.to(device)\n",
    "    optimizer= torch.optim.Adam(net.parameters(),lr=lr)\n",
    "    loss=MaskedSoftmaxCELoss()\n",
    "    net.train()\n",
    "    animator = d2l.Animator(xlabel='epoch', ylabel='loss',\n",
    "    xlim=[10, num_epochs])\n",
    "    for epoch in range(num_epochs):\n",
    "        timer = d2l.Timer()\n",
    "        metric = d2l.Accumulator(2)\n",
    "        for batch in data_iter:\n",
    "            optimizer.zero_grad()\n",
    "            X,X_valid_len,Y,Y_valid_len=[x.to(device) for x in batch]\n",
    "            bos=torch.tensor([tgt_vocab['<bos>']]*Y.shape[0],device=device).reshape(-1,1)\n",
    "            dec_input=torch.cat([bos,Y[:,:-1]],1)\n",
    "            Y_hat,_ =net(X,dec_input,X_valid_len)\n",
    "            l=loss(Y_hat,Y,Y_valid_len)\n",
    "            l.sum().backward() # 损失函数的标量进行“反向传播”\n",
    "            d2l.grad_clipping(net, 1)\n",
    "            num_tokens = Y_valid_len.sum()\n",
    "            optimizer.step()\n",
    "            with torch.no_grad():\n",
    "                metric.add(l.sum(), num_tokens)\n",
    "    if (epoch + 1) % 10 == 0:\n",
    "        animator.add(epoch + 1, (metric[0] / metric[1],))\n",
    "    print(f'loss {metric[0] / metric[1]:.3f}, {metric[1] / timer.stop():.1f} '\n",
    "    f'tokens/sec on {str(device)}')\n",
    "\n"
   ]
  },
  {
   "cell_type": "code",
   "execution_count": 21,
   "metadata": {},
   "outputs": [
    {
     "name": "stdout",
     "output_type": "stream",
     "text": [
      "torch.Size([3, 4])\n",
      "torch.Size([3, 4])\n"
     ]
    }
   ],
   "source": [
    "A=torch.rand((2,3,4))\n",
    "for a in A:\n",
    "    print(a.shape)"
   ]
  },
  {
   "cell_type": "code",
   "execution_count": null,
   "metadata": {},
   "outputs": [],
   "source": []
  }
 ],
 "metadata": {
  "kernelspec": {
   "display_name": "base",
   "language": "python",
   "name": "python3"
  },
  "language_info": {
   "codemirror_mode": {
    "name": "ipython",
    "version": 3
   },
   "file_extension": ".py",
   "mimetype": "text/x-python",
   "name": "python",
   "nbconvert_exporter": "python",
   "pygments_lexer": "ipython3",
   "version": "3.10.8"
  }
 },
 "nbformat": 4,
 "nbformat_minor": 2
}
