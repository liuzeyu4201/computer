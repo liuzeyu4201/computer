{
 "cells": [
  {
   "cell_type": "markdown",
   "metadata": {},
   "source": [
    "# 加载和处理数据集"
   ]
  },
  {
   "cell_type": "code",
   "execution_count": null,
   "metadata": {},
   "outputs": [],
   "source": [
    "from datasets import load_dataset\n",
    "\n",
    "# 数据使用的是eli5\n",
    "data = load_dataset(\"eli5_category\", trust_remote_code=True)\n",
    "small_data = data[\"train\"].shuffle().select(range(5000)).train_test_split(0.3)\n",
    "small_data"
   ]
  },
  {
   "cell_type": "code",
   "execution_count": null,
   "metadata": {},
   "outputs": [],
   "source": [
    "from transformers import AutoTokenizer\n",
    "tokenizer = AutoTokenizer.from_pretrained(\"your model path\")\n",
    "tokenizer"
   ]
  },
  {
   "cell_type": "code",
   "execution_count": null,
   "metadata": {},
   "outputs": [],
   "source": [
    "# 只要answers中的text字段\n",
    "flatten_data = small_data.flatten()\n",
    "flatten_data[\"train\"][0], small_data[\"train\"][0]"
   ]
  },
  {
   "cell_type": "code",
   "execution_count": null,
   "metadata": {},
   "outputs": [],
   "source": [
    "def process_flatten_function(examples):\n",
    "    # examples[\"answers.text\"]中可能包含多个字符串，这个函数会拼成一个长的字符串放在一个列表中\n",
    "    # tokenizer是没有长度的限制的但是模型会有\n",
    "    return tokenizer([\" \".join(x) for x in examples[\"answers.text\"]])"
   ]
  },
  {
   "cell_type": "code",
   "execution_count": null,
   "metadata": {},
   "outputs": [],
   "source": [
    "join_data = flatten_data.map(process_flatten_function, batched=True, remove_columns=flatten_data[\"train\"].column_names)\n",
    "join_data"
   ]
  },
  {
   "cell_type": "code",
   "execution_count": null,
   "metadata": {},
   "outputs": [],
   "source": [
    "# block_size的大小取决于机器的显存，如果显存大可以直接设置成为模型可以接受的最大长度\n",
    "# 显存和sequence_length以及batch_size都有关系\n",
    "block_size = 128\n",
    "\n",
    "def graup_text(examples):\n",
    "    # examples:batch * [input_ids]\n",
    "    # 将一个批量的ids和attention_mask拼接成一个大的都会放在一个列表中\n",
    "    concatenated_examples = {k:sum(examples[k],[]) for k in examples.keys()}\n",
    "    # 这个批量中的总长度（ids）\n",
    "    total_length = len(concatenated_examples[list(examples.keys())[0]])\n",
    "    if total_length >= block_size:\n",
    "        # 把不能被整除的部分去除掉\n",
    "        total_length = (total_length // block_size) * block_size\n",
    "    result = {\n",
    "        # 切片不会出现索引错误\n",
    "        k:[t[i:i + block_size] for i in range(0, total_length, block_size)]\n",
    "        for k, t in concatenated_examples.items()\n",
    "    }\n",
    "    # labels直接使用的是input_ids的数值\n",
    "    result[\"labels\"] = result[\"input_ids\"].copy()\n",
    "    return result"
   ]
  },
  {
   "cell_type": "code",
   "execution_count": null,
   "metadata": {},
   "outputs": [],
   "source": [
    "dataset = join_data.map(graup_text, batched=True)\n",
    "dataset"
   ]
  },
  {
   "cell_type": "code",
   "execution_count": null,
   "metadata": {},
   "outputs": [],
   "source": [
    "from transformers import DataCollatorForLanguageModeling\n",
    "# 可以打印前面直接加载的tokenizer是没有填充的，但是这个任务是需要的，所以需要设置\n",
    "tokenizer.pad_token = tokenizer.eos_token\n",
    "# gpt2的tokenizer没有mask这个\n",
    "data_collator = DataCollatorForLanguageModeling(tokenizer=tokenizer, mlm=False)\n",
    "data_collator"
   ]
  },
  {
   "cell_type": "markdown",
   "metadata": {},
   "source": [
    "# 准备训练"
   ]
  },
  {
   "cell_type": "code",
   "execution_count": null,
   "metadata": {},
   "outputs": [],
   "source": [
    "from transformers import AutoModelForCausalLM, TrainingArguments, Trainer\n",
    "\n",
    "# model使用的是DistilGPT\n",
    "model = AutoModelForCausalLM.from_pretrained(\"your model path\")\n",
    "model"
   ]
  },
  {
   "cell_type": "code",
   "execution_count": null,
   "metadata": {},
   "outputs": [],
   "source": [
    "training_args = TrainingArguments(\n",
    "    output_dir=\"./checkout\",\n",
    "    per_device_train_batch_size=2,\n",
    "    logging_strategy=\"steps\",\n",
    "    logging_steps=15,\n",
    "    learning_rate=5e-5,\n",
    "    warmup_steps=10,\n",
    "    weight_decay=0.01,\n",
    "    num_train_epochs=3,\n",
    "    per_device_eval_batch_size=4,\n",
    "    eval_strategy=\"epoch\",\n",
    "    save_strategy=\"epoch\",\n",
    "    save_total_limit=2\n",
    ")"
   ]
  },
  {
   "cell_type": "code",
   "execution_count": null,
   "metadata": {},
   "outputs": [],
   "source": [
    "trainer = Trainer(\n",
    "    model=model,\n",
    "    args=training_args,\n",
    "    train_dataset=dataset[\"train\"],\n",
    "    eval_dataset=dataset[\"test\"],\n",
    "    data_collator=data_collator\n",
    ")"
   ]
  },
  {
   "cell_type": "code",
   "execution_count": null,
   "metadata": {},
   "outputs": [],
   "source": [
    "trainer.train()"
   ]
  },
  {
   "cell_type": "code",
   "execution_count": null,
   "metadata": {},
   "outputs": [],
   "source": [
    "import math\n",
    "eval_results = trainer.evaluate()\n",
    "# 这个是困惑度的计算方式e的loss次方\n",
    "print(f\"Perplexity: {math.exp(eval_results['eval_loss']):.2f}\")"
   ]
  },
  {
   "cell_type": "code",
   "execution_count": null,
   "metadata": {},
   "outputs": [],
   "source": []
  }
 ],
 "metadata": {
  "kernelspec": {
   "display_name": "learn",
   "language": "python",
   "name": "python3"
  },
  "language_info": {
   "codemirror_mode": {
    "name": "ipython",
    "version": 3
   },
   "file_extension": ".py",
   "mimetype": "text/x-python",
   "name": "python",
   "nbconvert_exporter": "python",
   "pygments_lexer": "ipython3",
   "version": "3.12.9"
  }
 },
 "nbformat": 4,
 "nbformat_minor": 2
}
